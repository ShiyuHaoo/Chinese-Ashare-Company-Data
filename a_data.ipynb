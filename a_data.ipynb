{
 "cells": [
  {
   "cell_type": "code",
   "execution_count": 1,
   "metadata": {},
   "outputs": [],
   "source": [
    "import tushare as ts\n",
    "import pandas as pd\n",
    "import time\n"
   ]
  },
  {
   "cell_type": "code",
   "execution_count": 2,
   "metadata": {},
   "outputs": [
    {
     "name": "stderr",
     "output_type": "stream",
     "text": [
      "/var/folders/1g/kkn6qdxn5jj1lnwwtw1hhwg00000gn/T/ipykernel_58346/630947944.py:59: FutureWarning: The behavior of DataFrame concatenation with empty or all-NA entries is deprecated. In a future version, this will no longer exclude empty or all-NA columns when determining the result dtypes. To retain the old behavior, exclude the relevant entries before the concat operation.\n",
      "  income_data_df = pd.concat(income_data_list, ignore_index=True)\n",
      "/var/folders/1g/kkn6qdxn5jj1lnwwtw1hhwg00000gn/T/ipykernel_58346/630947944.py:60: FutureWarning: The behavior of DataFrame concatenation with empty or all-NA entries is deprecated. In a future version, this will no longer exclude empty or all-NA columns when determining the result dtypes. To retain the old behavior, exclude the relevant entries before the concat operation.\n",
      "  balance_data_df = pd.concat(balance_data_list, ignore_index=True)\n",
      "/var/folders/1g/kkn6qdxn5jj1lnwwtw1hhwg00000gn/T/ipykernel_58346/630947944.py:61: FutureWarning: The behavior of DataFrame concatenation with empty or all-NA entries is deprecated. In a future version, this will no longer exclude empty or all-NA columns when determining the result dtypes. To retain the old behavior, exclude the relevant entries before the concat operation.\n",
      "  cashflow_data_df = pd.concat(cashflow_data_list, ignore_index=True)\n",
      "/var/folders/1g/kkn6qdxn5jj1lnwwtw1hhwg00000gn/T/ipykernel_58346/630947944.py:62: FutureWarning: The behavior of DataFrame concatenation with empty or all-NA entries is deprecated. In a future version, this will no longer exclude empty or all-NA columns when determining the result dtypes. To retain the old behavior, exclude the relevant entries before the concat operation.\n",
      "  dividend_data_df = pd.concat(dividend_data_list, ignore_index=True)\n",
      "/var/folders/1g/kkn6qdxn5jj1lnwwtw1hhwg00000gn/T/ipykernel_58346/630947944.py:63: FutureWarning: The behavior of DataFrame concatenation with empty or all-NA entries is deprecated. In a future version, this will no longer exclude empty or all-NA columns when determining the result dtypes. To retain the old behavior, exclude the relevant entries before the concat operation.\n",
      "  forecast_data_df = pd.concat(forecast_data_list, ignore_index=True)\n",
      "/var/folders/1g/kkn6qdxn5jj1lnwwtw1hhwg00000gn/T/ipykernel_58346/630947944.py:64: FutureWarning: The behavior of DataFrame concatenation with empty or all-NA entries is deprecated. In a future version, this will no longer exclude empty or all-NA columns when determining the result dtypes. To retain the old behavior, exclude the relevant entries before the concat operation.\n",
      "  valuation_data_df = pd.concat(valuation_data_list, ignore_index=True)\n",
      "/var/folders/1g/kkn6qdxn5jj1lnwwtw1hhwg00000gn/T/ipykernel_58346/630947944.py:65: FutureWarning: The behavior of DataFrame concatenation with empty or all-NA entries is deprecated. In a future version, this will no longer exclude empty or all-NA columns when determining the result dtypes. To retain the old behavior, exclude the relevant entries before the concat operation.\n",
      "  holder_data_df = pd.concat(holder_data_list, ignore_index=True)\n"
     ]
    }
   ],
   "source": [
    "# Set Tushare token\n",
    "ts.set_token('6a27b6191674ddab25d8faf212dcf73bb4c18e122a47586662028c10')\n",
    "pro = ts.pro_api()\n",
    "\n",
    "# Get A-share stock codes\n",
    "stock_info = pro.stock_basic(exchange='', list_status='L', fields='ts_code,symbol,name,area,industry,list_date')\n",
    "stock_codes = stock_info['ts_code']\n",
    "\n",
    "# Save basic info\n",
    "stock_info.to_csv('a_stock_basic.csv', index=False)\n",
    "\n",
    "# Initialize lists to store data\n",
    "daily_data_list = []\n",
    "income_data_list = []\n",
    "balance_data_list = []\n",
    "cashflow_data_list = []\n",
    "dividend_data_list = []\n",
    "forecast_data_list = []\n",
    "valuation_data_list = []\n",
    "holder_data_list = []\n",
    "\n",
    "# Loop through stock codes\n",
    "for ts_code in stock_codes:\n",
    "    # Market data (daily)\n",
    "    daily_data = pro.daily(ts_code=ts_code)\n",
    "    daily_data_list.append(daily_data)\n",
    "    \n",
    "    # Financial data (income, balance sheet, cash flow)\n",
    "    income_data = pro.income(ts_code=ts_code)\n",
    "    income_data_list.append(income_data)\n",
    "    \n",
    "    balance_data = pro.balancesheet(ts_code=ts_code)\n",
    "    balance_data_list.append(balance_data)\n",
    "    \n",
    "    cashflow_data = pro.cashflow(ts_code=ts_code)\n",
    "    cashflow_data_list.append(cashflow_data)\n",
    "    \n",
    "    # Corporate actions (dividends)\n",
    "    dividend_data = pro.dividend(ts_code=ts_code)\n",
    "    dividend_data_list.append(dividend_data)\n",
    "    \n",
    "    # Analyst forecast data\n",
    "    forecast_data = pro.forecast(ts_code=ts_code)\n",
    "    forecast_data_list.append(forecast_data)\n",
    "    \n",
    "    # Valuation data\n",
    "    valuation_data = pro.daily_basic(ts_code=ts_code)\n",
    "    valuation_data_list.append(valuation_data)\n",
    "    \n",
    "    # Shareholder information\n",
    "    holder_data = pro.top10_holders(ts_code=ts_code)\n",
    "    holder_data_list.append(holder_data)\n",
    "    \n",
    "    # Delay between requests to avoid hitting API limits\n",
    "    time.sleep(1)\n",
    "\n",
    "# Concatenate data\n",
    "daily_data_df = pd.concat(daily_data_list, ignore_index=True)\n",
    "income_data_df = pd.concat(income_data_list, ignore_index=True)\n",
    "balance_data_df = pd.concat(balance_data_list, ignore_index=True)\n",
    "cashflow_data_df = pd.concat(cashflow_data_list, ignore_index=True)\n",
    "dividend_data_df = pd.concat(dividend_data_list, ignore_index=True)\n",
    "forecast_data_df = pd.concat(forecast_data_list, ignore_index=True)\n",
    "valuation_data_df = pd.concat(valuation_data_list, ignore_index=True)\n",
    "holder_data_df = pd.concat(holder_data_list, ignore_index=True)\n",
    "\n",
    "# Save data to CSV files\n",
    "daily_data_df.to_csv('a_daily_data.csv', index=False)\n",
    "income_data_df.to_csv('a_income_data.csv', index=False)\n",
    "balance_data_df.to_csv('a_balance_data.csv', index=False)\n",
    "cashflow_data_df.to_csv('a_cashflow_data.csv', index=False)\n",
    "dividend_data_df.to_csv('a_dividend_data.csv', index=False)\n",
    "forecast_data_df.to_csv('a_forecast_data.csv', index=False)\n",
    "valuation_data_df.to_csv('a_valuation_data.csv', index=False)\n",
    "holder_data_df.to_csv('a_holder_data.csv', index=False)"
   ]
  },
  {
   "cell_type": "code",
   "execution_count": null,
   "metadata": {},
   "outputs": [],
   "source": []
  }
 ],
 "metadata": {
  "kernelspec": {
   "display_name": "Python 3",
   "language": "python",
   "name": "python3"
  },
  "language_info": {
   "codemirror_mode": {
    "name": "ipython",
    "version": 3
   },
   "file_extension": ".py",
   "mimetype": "text/x-python",
   "name": "python",
   "nbconvert_exporter": "python",
   "pygments_lexer": "ipython3",
   "version": "3.9.6"
  }
 },
 "nbformat": 4,
 "nbformat_minor": 2
}
