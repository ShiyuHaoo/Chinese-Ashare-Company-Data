{
 "cells": [
  {
   "cell_type": "code",
   "execution_count": 48,
   "metadata": {},
   "outputs": [],
   "source": [
    "import requests\n",
    "from bs4 import BeautifulSoup\n",
    "import pandas as pd\n",
    "import re"
   ]
  },
  {
   "cell_type": "code",
   "execution_count": 49,
   "metadata": {},
   "outputs": [],
   "source": [
    "df = pd.read_csv('stock_data.csv')\n",
    "df['listed_market'] = None\n",
    "df['listing_date'] = None\n",
    "df['issue_price'] = None\n",
    "df['company_website'] = None\n",
    "df['business_address'] = None\n",
    "df['main_business'] = None\n"
   ]
  },
  {
   "cell_type": "code",
   "execution_count": 50,
   "metadata": {},
   "outputs": [
    {
     "name": "stdout",
     "output_type": "stream",
     "text": [
      "Request was successful, proceed with data processing\n"
     ]
    }
   ],
   "source": [
    "#Get Company Info\n",
    "url=\"https://vip.stock.finance.sina.com.cn/corp/go.php/vCI_CorpInfo/stockid/000001.phtml\"\n",
    "#Requests module use to data from given url\n",
    "source=requests.get(url)\n",
    "# Check if the request was successful\n",
    "if source.status_code == 200:\n",
    "    print(\"Request was successful, proceed with data processing\")\n",
    "    # Process the data, for example, using BeautifulSoup to parse\n",
    "    # soup = BeautifulSoup(response.text, 'html.parser')\n",
    "else:\n",
    "    print(f\"Request failed with status code: {source.status_code}\")\n",
    "# BeautifulSoup is used for getting HTML structure from requests response.\n",
    "soup=BeautifulSoup(source.text,'html')"
   ]
  },
  {
   "cell_type": "code",
   "execution_count": 51,
   "metadata": {},
   "outputs": [
    {
     "name": "stdout",
     "output_type": "stream",
     "text": [
      "This is with html tags : <title>平安银行(000001)公司资料_新浪财经_新浪网</title>\n"
     ]
    }
   ],
   "source": [
    "# Find function is used to find a single element if there are more than once it always returns the first element.\n",
    "title=soup.find('title')\n",
    "print(\"This is with html tags :\",title)\n",
    "\n",
    "#stock list\n",
    "stock_info=soup.find('tbody')"
   ]
  },
  {
   "cell_type": "code",
   "execution_count": 52,
   "metadata": {},
   "outputs": [],
   "source": [
    "# listed_market = soup.find(text=\"上市市场\").find_next('td').text.strip()\n",
    "# listing_date = soup.find(text=\"上市日期\").find_next('td').text.strip()\n",
    "# issue_price = soup.find(text=\"发行价\").find_next('td').text.strip()\n",
    "# company_website = soup.find(text=\"公司网址\").find_next('td').text.strip()\n",
    "# business_address = soup.find(text=\"办公地址\").find_next('td').text.strip()\n",
    "# main_business = soup.find(text=\"主营业务\").find_next('td').text.strip()"
   ]
  },
  {
   "cell_type": "code",
   "execution_count": 53,
   "metadata": {},
   "outputs": [
    {
     "name": "stdout",
     "output_type": "stream",
     "text": [
      "<tbody id=\"tbodyVisited\"></tbody>\n"
     ]
    }
   ],
   "source": [
    "print(stock_info)"
   ]
  },
  {
   "cell_type": "code",
   "execution_count": 54,
   "metadata": {},
   "outputs": [],
   "source": [
    "# # Scrape each stock's company information and populate the DataFrame\n",
    "# for index, row in df.iterrows():\n",
    "#     # Generate URLs dynamically (replace with stock codes)\n",
    "#     stock_code = row['tickers']\n",
    "#     url = f\"https://vip.stock.finance.sina.com.cn/corp/go.php/vCI_CorpInfo/stockid/{stock_code}.phtml\"\n",
    "    \n",
    "#     # request\n",
    "#     source = requests.get(url)\n",
    "#     soup = BeautifulSoup(source.text, 'html.parser')\n",
    "\n",
    "#     # extract company info\n",
    "#     try:\n",
    "#         # extract information\n",
    "#         listed_market = soup.find(text=\"上市市场\").find_next('td').text.strip()\n",
    "#         listing_date = soup.find(text=\"上市日期\").find_next('td').text.strip()\n",
    "#         issue_price = soup.find(text=\"发行价格\").find_next('td').text.strip()\n",
    "#         company_website = soup.find(text=\"公司网址\").find_next('td').text.strip()\n",
    "#         business_address = soup.find(text=\"办公地址\").find_next('td').text.strip()\n",
    "#         main_business = soup.find(text=\"主营业务\").find_next('td').text.strip()\n",
    "\n",
    "#         # populate into DataFrame\n",
    "#         df.at[index, 'listed_market'] = listed_market\n",
    "#         df.at[index, 'listing_date'] = listing_date\n",
    "#         df.at[index, 'issue_price'] = issue_price\n",
    "#         df.at[index, 'company_website'] = company_website\n",
    "#         df.at[index, 'business_address'] = business_address\n",
    "#         df.at[index, 'main_business'] = main_business\n",
    "\n",
    "#     except AttributeError:\n",
    "#         print(f\"Error parsing data for stock: {stock_code}\")\n",
    "\n",
    "# # save complete dataframe as .csv file\n",
    "# df.to_csv('updated_stock_data.csv', index=False)\n",
    "\n",
    "# # final DataFrame\n",
    "# print(df)"
   ]
  }
 ],
 "metadata": {
  "kernelspec": {
   "display_name": "Python 3",
   "language": "python",
   "name": "python3"
  },
  "language_info": {
   "codemirror_mode": {
    "name": "ipython",
    "version": 3
   },
   "file_extension": ".py",
   "mimetype": "text/x-python",
   "name": "python",
   "nbconvert_exporter": "python",
   "pygments_lexer": "ipython3",
   "version": "3.9.6"
  }
 },
 "nbformat": 4,
 "nbformat_minor": 2
}
